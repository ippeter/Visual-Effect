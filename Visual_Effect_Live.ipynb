{
 "cells": [
  {
   "cell_type": "code",
   "execution_count": 1,
   "metadata": {
    "collapsed": true
   },
   "outputs": [],
   "source": [
    "import cv2"
   ]
  },
  {
   "cell_type": "code",
   "execution_count": 10,
   "metadata": {
    "collapsed": true
   },
   "outputs": [],
   "source": [
    "cap = cv2.VideoCapture(0)\n",
    "\n",
    "while True:\n",
    "    _, frame = cap.read()\n",
    "    \n",
    "    # convert to grayscale\n",
    "    gray = cv2.cvtColor(frame, cv2.COLOR_BGR2GRAY)\n",
    "    \n",
    "    # initialize the face recognizer (default face haar cascade)\n",
    "    # download the XML file from here: https://github.com/opencv/opencv/tree/master/data/haarcascades\n",
    "    face_cascade = cv2.CascadeClassifier(\"cascades/haarcascade_frontalface_alt.xml\")\n",
    "    \n",
    "    # detect all the faces in the image\n",
    "    faces = face_cascade.detectMultiScale(gray)\n",
    "    \n",
    "    # for every face, draw a blue rectangle\n",
    "    for x, y, width, height in faces:\n",
    "        cv2.rectangle(gray, (x, y), (x + width, y + height), color=(255, 0, 0), thickness=2)\n",
    "        \n",
    "        # Get the face and show it\n",
    "        face = gray[y:y+height, x:x+width]\n",
    "        cv2.imshow(\"face\", face)\n",
    "    \n",
    "        # perform the canny edge detector to detect image edges and show them\n",
    "        edges = cv2.Canny(face, threshold1=40, threshold2=75)\n",
    "        cv2.imshow(\"edges\", edges)\n",
    "        \n",
    "        \"\"\"\n",
    "        # create a binary thresholded image\n",
    "        _, binary = cv2.threshold(face, 132, 255, cv2.THRESH_BINARY_INV)\n",
    "        #binary = cv2.adaptiveThreshold(face, 255, cv2.ADAPTIVE_THRESH_MEAN_C, cv2.THRESH_BINARY, 11, 2)\n",
    "\n",
    "        # find the contours from the thresholded image\n",
    "        contours, hierarchy = cv2.findContours(binary, cv2.RETR_TREE, cv2.CHAIN_APPROX_SIMPLE)\n",
    "        \n",
    "        # Get the larget contour\n",
    "        #cont_sort = sorted(contours, key=cv2.contourArea, reverse=True)\n",
    "\n",
    "        # draw all contours and show it\n",
    "        cntrs = cv2.drawContours(face, contours, -1, (0, 255, 0), 2)\n",
    "        cv2.imshow(\"contours\", cntrs)\n",
    "        \"\"\"\n",
    "    \n",
    "    # show the images\n",
    "    #cv2.imshow(\"gray\", gray)\n",
    "    cv2.imshow(\"image\", gray)\n",
    "    #cv2.imshow(\"binary\", binary)\n",
    "    \n",
    "    \n",
    "    if (cv2.waitKey(1) & 0xFF == ord(\"q\")):\n",
    "        break\n",
    "\n",
    "cap.release()\n",
    "cv2.destroyAllWindows()"
   ]
  },
  {
   "cell_type": "code",
   "execution_count": 34,
   "metadata": {
    "collapsed": true
   },
   "outputs": [],
   "source": [
    "cap.release()\n",
    "cv2.destroyAllWindows()"
   ]
  },
  {
   "cell_type": "code",
   "execution_count": null,
   "metadata": {
    "collapsed": true
   },
   "outputs": [],
   "source": []
  }
 ],
 "metadata": {
  "kernelspec": {
   "display_name": "Python 3",
   "language": "python",
   "name": "python3"
  },
  "language_info": {
   "codemirror_mode": {
    "name": "ipython",
    "version": 3
   },
   "file_extension": ".py",
   "mimetype": "text/x-python",
   "name": "python",
   "nbconvert_exporter": "python",
   "pygments_lexer": "ipython3",
   "version": "3.6.3"
  }
 },
 "nbformat": 4,
 "nbformat_minor": 2
}
